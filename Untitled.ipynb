{
 "cells": [
  {
   "cell_type": "code",
   "execution_count": 11,
   "id": "precious-mixture",
   "metadata": {},
   "outputs": [
    {
     "name": "stdout",
     "output_type": "stream",
     "text": [
      "0 도 서 관 체 험 교실 안내\n",
      "- 기 간 :3 월 12 월 18 학 제 의\n",
      "- 일 시 : 매 주 화 , 목 , 금 [유아] 10:30~71:30 [초등] 10:00~11:30\n",
      "- 장 소 : 시 청 각 실 및 어 린 이 자료실\n",
      "- 대 상 : 유 아 보 육 기관 및 관내 초 등 학 교 ( 유 아 ~ 조 등 4 학 년)\n",
      "- 강 사 : 어 린 이 자료실 사서\n",
      "- 내 용 : 도 서 관 이용법 안내 및 빚 그림 동화 구현, 자 율 독서 등\n",
      "\n",
      " \n",
      "\f",
      "\n"
     ]
    }
   ],
   "source": [
    "import pytesseract\n",
    "import cv2\n",
    "\n",
    "removeList = [\n",
    "    'ㄱ', 'ㄲ', 'ㄴ', 'ㄷ', 'ㄸ', 'ㄹ', 'ㅁ', 'ㅂ', 'ㅃ',\n",
    "    'ㅅ', 'ㅆ', 'ㅇ', 'ㅈ', 'ㅉ', 'ㅊ', 'ㅋ', 'ㅌ', 'ㅍ',\n",
    "    'ㅎ', 'ㅏ', 'ㅐ', 'ㅑ', 'ㅒ', 'ㅓ', 'ㅔ', 'ㅕ', 'ㅖ',\n",
    "    'ㅗ', 'ㅘ', 'ㅙ', 'ㅚ', 'ㅛ', 'ㅜ', 'ㅝ', 'ㅞ', 'ㅟ',\n",
    "    'ㅠ', 'ㅡ', 'ㅢ', 'ㅣ', 'ㄱ', 'ㄲ', 'ㄳ', 'ㄴ', 'ㄵ',\n",
    "    'ㄶ', 'ㄷ', 'ㄹ', 'ㄺ', 'ㄻ', 'ㄼ', 'ㄽ', 'ㄾ', 'ㄿ',\n",
    "    'ㅀ', 'ㅁ', 'ㅂ', 'ㅄ', 'ㅅ', 'ㅆ', 'ㅇ', 'ㅈ', 'ㅊ',\n",
    "    'ㅋ', 'ㅌ', 'ㅍ', 'ㅎ'\n",
    "]\n",
    "def removeWord(word_tokenize):\n",
    "    result = []\n",
    "    for w in word_tokenize:\n",
    "        if w not in removeList:\n",
    "            result.append(w)\n",
    "    return result\n",
    "\n",
    "img = cv2.imread('data/test.png')\n",
    "data = pytesseract.image_to_string(image=img, lang='Hangul')\n",
    "print(\"\".join(removeWord(data)))"
   ]
  },
  {
   "cell_type": "code",
   "execution_count": 12,
   "id": "experienced-toddler",
   "metadata": {},
   "outputs": [
    {
     "name": "stdout",
     "output_type": "stream",
     "text": [
      "@ 점자 ㆍ 전자 자 료 제 작 사업\n",
      "- 일 반 도 서 를 점 지도서 점 자 라 벨 도서 전 자 도서 등 시 각 장애인 대 체 자 료 로 제 작\n",
      "\n",
      "《 음성 자료 제작 사업\n",
      "- 일 반 도 서 를 음 성 도서 등 시 각 장애인 대 체 자 료 로 제작\n",
      "\n",
      " 도서 대출 사업\n",
      "- 점 자 도서, 00 도 서 , 3 음 성 도 서를 시 각 장 애 인 들이 가 정 에서 이용할 수 있도록 대 출 신 청 을 받아 우 편 으로 전달\n",
      "\n",
      "@ 독 서 진 흥 사 업\n",
      "- 독 서 진 흠 을 위 한 전 화 사 서 함 독 서 문 회 프로그램 독 서 문 학 기행 산 책 등 실 시\n",
      "\n",
      " 도 서 이용자 지원 사업\n",
      "\n",
      "- 건전한 독 서 문화 항 삼 을 위 한 도 서 목 록 발송 한 글 점 지의 날 기념식 및 문 학 행사 전국 시 각 장애인 독후감 현 상 공모 전국 시각\n",
      "장애인 시 수 필 공 모 전 , 독 서 퀴 즈 등 실시\n",
      "\n",
      "@ 디지털 도서관 운영 사업\n",
      "- ' 꼼 김 는 도 서 관 (0:11 9=6.0  1 운 영 을 통 하여 시 각 장 애 인 이 컴 퓨 터 와 스 마 트 폰 등 의 기 기 로 음 성 도 서 와 전 자 도서 등\n",
      "각 종 자 료 를 이용할 수 있 도 록 다 양한 콘 텐 츠 제 공\n",
      "\n",
      "@  평 생 학 습 지 원 센터 운영 사업\n",
      "\n",
      "- 개별적 학습 욕 구 에 대 용 하고 평 생 학 습 생 활 을 지 원 하기 위해 알기 쉬운 점 자 교실 맞춤형 학 습 지 원 서 비 스 등 다 양 한 평 생 학습\n",
      "프 로 램 운영\n",
      "\n",
      "@ 홍보 및 인식 개선 사업\n",
      "- 점 자 도 서 관 의 필 요 성 과 역 할 을 흥 보 하고 시 각 장 애 인 에 대한 인 식 개 선 을 위해 소식지 ' 점 자 나 라 ' 발 간 , 흥 보 체험관 운영, 점 자 명\n",
      "\n",
      "함 제 작 , 주 민 점 자 교실 기 관 견 학 등 실 시\n",
      "\f",
      "\n"
     ]
    }
   ],
   "source": [
    "img = cv2.imread('data/test2.png')\n",
    "data = pytesseract.image_to_string(image=img, lang='Hangul')\n",
    "print(\"\".join(removeWord(data)))"
   ]
  },
  {
   "cell_type": "code",
   "execution_count": null,
   "id": "designing-measurement",
   "metadata": {},
   "outputs": [],
   "source": []
  }
 ],
 "metadata": {
  "kernelspec": {
   "display_name": "Python 3",
   "language": "python",
   "name": "python3"
  },
  "language_info": {
   "codemirror_mode": {
    "name": "ipython",
    "version": 3
   },
   "file_extension": ".py",
   "mimetype": "text/x-python",
   "name": "python",
   "nbconvert_exporter": "python",
   "pygments_lexer": "ipython3",
   "version": "3.6.9"
  }
 },
 "nbformat": 4,
 "nbformat_minor": 5
}
