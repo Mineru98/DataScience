{
 "cells": [
  {
   "cell_type": "code",
   "execution_count": 5,
   "metadata": {},
   "outputs": [
    {
     "name": "stdout",
     "output_type": "stream",
     "text": [
      "훈련 데이터:  (274, 1)\n",
      "검증 데이터:  (118, 1)\n"
     ]
    }
   ],
   "source": [
    "import pandas as pd\n",
    "import numpy as np\n",
    "import matplotlib.pyplot as plt\n",
    "import seaborn as sns\n",
    "\n",
    "df = pd.read_csv(\"./auto-mpg.csv\", header=None)\n",
    "\n",
    "df.columns = [\"mpg\",\"cylinders\",\"displacement\",\"horsepower\",\"weight\",\"acceleration\",\"model year\",\"origin\",\"name\"]\n",
    "\n",
    "df[\"horsepower\"].replace(\"?\",np.nan, inplace=True)\n",
    "df.dropna(subset=[\"horsepower\"], axis=0, inplace=True)\n",
    "df[\"horsepower\"] = df[\"horsepower\"].astype(\"float\")\n",
    "\n",
    "ndf = df[[\"mpg\",\"cylinders\", \"horsepower\",\"weight\"]]\n",
    "\n",
    "X=ndf[[\"weight\"]]\n",
    "y=ndf[\"mpg\"]\n",
    "\n",
    "from sklearn.model_selection import train_test_split\n",
    "X_train, X_test, y_train, y_test = train_test_split(X, y, test_size=0.3, random_state=10)\n",
    "\n",
    "print(\"훈련 데이터: \", X_train.shape)\n",
    "print(\"검증 데이터: \", X_test.shape)"
   ]
  },
  {
   "cell_type": "code",
   "execution_count": null,
   "metadata": {},
   "outputs": [],
   "source": []
  }
 ],
 "metadata": {
  "kernelspec": {
   "display_name": "Python 3",
   "language": "python",
   "name": "python3"
  },
  "language_info": {
   "codemirror_mode": {
    "name": "ipython",
    "version": 3
   },
   "file_extension": ".py",
   "mimetype": "text/x-python",
   "name": "python",
   "nbconvert_exporter": "python",
   "pygments_lexer": "ipython3",
   "version": "3.7.4"
  }
 },
 "nbformat": 4,
 "nbformat_minor": 4
}
